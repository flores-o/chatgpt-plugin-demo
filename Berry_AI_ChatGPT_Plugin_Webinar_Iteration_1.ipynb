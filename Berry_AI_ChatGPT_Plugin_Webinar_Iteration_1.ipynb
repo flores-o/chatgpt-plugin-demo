{
  "nbformat": 4,
  "nbformat_minor": 0,
  "metadata": {
    "colab": {
      "provenance": [],
      "include_colab_link": true
    },
    "kernelspec": {
      "name": "python3",
      "display_name": "Python 3"
    },
    "language_info": {
      "name": "python"
    }
  },
  "cells": [
    {
      "cell_type": "markdown",
      "metadata": {
        "id": "view-in-github",
        "colab_type": "text"
      },
      "source": [
        "<a href=\"https://colab.research.google.com/github/flores-o/chatgpt-plugin-demo/blob/main/Berry_AI_ChatGPT_Plugin_Webinar_Iteration_1.ipynb\" target=\"_parent\"><img src=\"https://colab.research.google.com/assets/colab-badge.svg\" alt=\"Open In Colab\"/></a>"
      ]
    },
    {
      "cell_type": "code",
      "source": [
        "#@title # Environment Set-Up\n",
        "!pip install gdown"
      ],
      "metadata": {
        "id": "_VFaTcgH7639",
        "colab": {
          "base_uri": "https://localhost:8080/"
        },
        "outputId": "69380c17-5fde-4b0b-e8e3-c32f66a67505"
      },
      "execution_count": 1,
      "outputs": [
        {
          "output_type": "stream",
          "name": "stdout",
          "text": [
            "Looking in indexes: https://pypi.org/simple, https://us-python.pkg.dev/colab-wheels/public/simple/\n",
            "Requirement already satisfied: gdown in /usr/local/lib/python3.9/dist-packages (4.6.4)\n",
            "Requirement already satisfied: tqdm in /usr/local/lib/python3.9/dist-packages (from gdown) (4.65.0)\n",
            "Requirement already satisfied: six in /usr/local/lib/python3.9/dist-packages (from gdown) (1.16.0)\n",
            "Requirement already satisfied: requests[socks] in /usr/local/lib/python3.9/dist-packages (from gdown) (2.27.1)\n",
            "Requirement already satisfied: filelock in /usr/local/lib/python3.9/dist-packages (from gdown) (3.10.1)\n",
            "Requirement already satisfied: beautifulsoup4 in /usr/local/lib/python3.9/dist-packages (from gdown) (4.11.2)\n",
            "Requirement already satisfied: soupsieve>1.2 in /usr/local/lib/python3.9/dist-packages (from beautifulsoup4->gdown) (2.4)\n",
            "Requirement already satisfied: certifi>=2017.4.17 in /usr/local/lib/python3.9/dist-packages (from requests[socks]->gdown) (2022.12.7)\n",
            "Requirement already satisfied: idna<4,>=2.5 in /usr/local/lib/python3.9/dist-packages (from requests[socks]->gdown) (3.4)\n",
            "Requirement already satisfied: charset-normalizer~=2.0.0 in /usr/local/lib/python3.9/dist-packages (from requests[socks]->gdown) (2.0.12)\n",
            "Requirement already satisfied: urllib3<1.27,>=1.21.1 in /usr/local/lib/python3.9/dist-packages (from requests[socks]->gdown) (1.26.15)\n",
            "Requirement already satisfied: PySocks!=1.5.7,>=1.5.6 in /usr/local/lib/python3.9/dist-packages (from requests[socks]->gdown) (1.7.1)\n"
          ]
        }
      ]
    },
    {
      "cell_type": "markdown",
      "source": [
        "# We are going to be doing QA against this research paper: \n",
        "\n",
        "https://drive.google.com/file/d/1g-RBkhExWOsNJ17IBOQmv-4owaV5nH1X/view?usp=sharing"
      ],
      "metadata": {
        "id": "_7TwLas47Its"
      }
    },
    {
      "cell_type": "code",
      "source": [
        "!gdown 1g-RBkhExWOsNJ17IBOQmv-4owaV5nH1X"
      ],
      "metadata": {
        "colab": {
          "base_uri": "https://localhost:8080/"
        },
        "id": "JrkAyghc4-u-",
        "outputId": "a6a85a66-41d1-4703-9562-c7b8e71e0678"
      },
      "execution_count": 2,
      "outputs": [
        {
          "output_type": "stream",
          "name": "stdout",
          "text": [
            "Downloading...\n",
            "From: https://drive.google.com/uc?id=1g-RBkhExWOsNJ17IBOQmv-4owaV5nH1X\n",
            "To: /content/ml_paper.pdf\n",
            "\r  0% 0.00/3.26M [00:00<?, ?B/s]\r100% 3.26M/3.26M [00:00<00:00, 170MB/s]\n"
          ]
        }
      ]
    },
    {
      "cell_type": "code",
      "execution_count": 3,
      "metadata": {
        "colab": {
          "base_uri": "https://localhost:8080/"
        },
        "id": "7A3HyWCh4DFA",
        "outputId": "71f20c9e-837d-4e17-df62-bd4c8e00a5d7"
      },
      "outputs": [
        {
          "output_type": "stream",
          "name": "stdout",
          "text": [
            "{\"account_email\":\"krrish@berri.ai\",\"api_endpoint\":\"https://api.berri.ai/query?user_email=krrish@berri.ai&instance_id=fe2aa30a-735c-4764-adbf-64eb4396ed60\",\"instance_id\":\"fe2aa30a-735c-4764-adbf-64eb4396ed60\",\"playground_endpoint\":\"play.berri.ai/aHR0cHM6Ly9zaGFyZWRkYnN0b3JlcXVlcnktN2JlYS04aGp3LnplZXQtYmVycmkuemVldC5hcHAvYmVycmlfcXVlcnk_cHJval9wYXRoPWluZGV4ZXMva3JyaXNoQGJlcnJpLmFpL2ZlMmFhMzBhLTczNWMtNDc2NC1hZGJmLTY0ZWI0Mzk2ZWQ2MA==\",\"plugin_manifest\":\"https://api.berri.ai/fe2aa30a-735c-4764-adbf-64eb4396ed60/ai-plugin.json\",\"plugin_yaml\":\"https://api.berri.ai/openapi/fe2aa30a-735c-4764-adbf-64eb4396ed60\",\"website_endpoint\":\"chat.berri.ai/aHR0cHM6Ly9zaGFyZWRkYnN0b3JlcXVlcnktN2JlYS04aGp3LnplZXQtYmVycmkuemVldC5hcHAvYmVycmlfcXVlcnk_cHJval9wYXRoPWluZGV4ZXMva3JyaXNoQGJlcnJpLmFpL2ZlMmFhMzBhLTczNWMtNDc2NC1hZGJmLTY0ZWI0Mzk2ZWQ2MA==\"}\n",
            "\n"
          ]
        }
      ],
      "source": [
        "#@title # Creating our first plugin\n",
        "\n",
        "import requests\n",
        "\n",
        "url = \"https://api.berri.ai/create_app\"\n",
        "\n",
        "user_email = \"krrish@berri.ai\" #@param {type:\"string\"}\n",
        "\n",
        "\n",
        "data = {\"user_email\": user_email}\n",
        "\n",
        "files = {'data_source': open('ml_paper.pdf', 'rb')}\n",
        "\n",
        "response = requests.post(url, files=files, data=data)\n",
        "\n",
        "print(response.text)"
      ]
    },
    {
      "cell_type": "code",
      "source": [
        "#@title # Test your plugin here! (ask: what training algorithms were used?)\n",
        "\n",
        "response.json()[\"playground_endpoint\"]"
      ],
      "metadata": {
        "colab": {
          "base_uri": "https://localhost:8080/",
          "height": 53
        },
        "id": "YNp6FITc7Zk_",
        "outputId": "604fb6af-5aca-45f9-c8fc-478b37f40f01"
      },
      "execution_count": 4,
      "outputs": [
        {
          "output_type": "execute_result",
          "data": {
            "text/plain": [
              "'play.berri.ai/aHR0cHM6Ly9zaGFyZWRkYnN0b3JlcXVlcnktN2JlYS04aGp3LnplZXQtYmVycmkuemVldC5hcHAvYmVycmlfcXVlcnk_cHJval9wYXRoPWluZGV4ZXMva3JyaXNoQGJlcnJpLmFpL2ZlMmFhMzBhLTczNWMtNDc2NC1hZGJmLTY0ZWI0Mzk2ZWQ2MA=='"
            ],
            "application/vnd.google.colaboratory.intrinsic+json": {
              "type": "string"
            }
          },
          "metadata": {},
          "execution_count": 4
        }
      ]
    },
    {
      "cell_type": "code",
      "source": [],
      "metadata": {
        "id": "DbQ-f6qsQpBp"
      },
      "execution_count": null,
      "outputs": []
    }
  ]
}